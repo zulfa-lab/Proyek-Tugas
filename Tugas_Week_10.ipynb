{
  "nbformat": 4,
  "nbformat_minor": 0,
  "metadata": {
    "colab": {
      "provenance": []
    },
    "kernelspec": {
      "name": "python3",
      "display_name": "Python 3"
    },
    "language_info": {
      "name": "python"
    }
  },
  "cells": [
    {
      "cell_type": "markdown",
      "source": [
        "## <h3 id=\"WeeklyExercise1\">Weekly Exercise 1</h3>\n",
        "Buatlah kode program untuk menghitung nilai faktorial dari bilangan yang diinputkan oleh pengguna dengan memanfaatkan fungsi rekursif!\n"
      ],
      "metadata": {
        "id": "4-731ivkVSLY"
      }
    },
    {
      "cell_type": "code",
      "execution_count": 8,
      "metadata": {
        "colab": {
          "base_uri": "https://localhost:8080/"
        },
        "id": "4VDOhiLyEDGp",
        "outputId": "817afb31-5e7f-4ded-f948-0551e1c98a6a"
      },
      "outputs": [
        {
          "output_type": "stream",
          "name": "stdout",
          "text": [
            "Masukkan bilangan: 5\n",
            "Faktorial dari 5 adalah 120\n"
          ]
        }
      ],
      "source": [
        "def faktorial(n): #Zulfa Nashihin 2420506036\n",
        "  if n == 0:\n",
        "    return 1\n",
        "  else:\n",
        "    return n * faktorial(n - 1)\n",
        "\n",
        "bilangan = int(input(\"Masukkan bilangan: \"))\n",
        "hasil = faktorial(bilangan)\n",
        "\n",
        "print(\"Faktorial dari\", bilangan, \"adalah\", hasil)"
      ]
    },
    {
      "cell_type": "markdown",
      "source": [
        "## <h3 id=\"WeeklyExercise1\">Weekly Exercise 2</h3>\n",
        "Buatlah kalkulator untuk menghitung luas bangun datar lingkaran, persegi dan segitiga dengan memanfaatkan fungsi\n",
        "<li>masing-masing kode program dimasukkan ke dalam fungsi yang berbeda</li>\n",
        "<li>pengguna diberikan pilihan perhitungan</li>\n",
        "<li>sebelum dipilih selesai program tidak akan berhenti</li>"
      ],
      "metadata": {
        "id": "Lgv7yM8CVYbN"
      }
    },
    {
      "cell_type": "code",
      "source": [
        "def luas_lingkaran(jari_jari): #Zulfa Nashihin 2420506036\n",
        "  return 3.14 * jari_jari**2\n",
        "\n",
        "def luas_persegi(sisi):\n",
        "  return sisi**2\n",
        "\n",
        "def luas_segitga(alas,tinggi):\n",
        "  return 0,5 * alas * tinggi\n",
        "\n",
        "while True:\n",
        "  print(\"\\nPilihan Perhitungan:\")\n",
        "  print(\"1. Luas Lingkaran\")\n",
        "  print(\"2. Luas Persegi\")\n",
        "  print(\"3. Luas Segitiga\")\n",
        "  print(\"4. Selesai\")\n",
        "\n",
        "  pilihan = input(\"Masukkan pilihan perhitungan (1/2/3/4)\")\n",
        "\n",
        "  if pilihan == '1':\n",
        "    jari_jari = float(input(\"Masukkan jari-jari lingkaran:\"))\n",
        "    Luas = luas_lingkaran(jari_jari)\n",
        "    print(\"Luas lingkaran:\", luas)\n",
        "  elif pilihan == '2':\n",
        "    sisi = float(input(\"Masukkan sisi persegi:\"))\n",
        "    luas = luas_persegi(sisi)\n",
        "    print(\"luas_persegi: \", luas)\n",
        "  elif pilihan == '3':\n",
        "    alas = float(input(\"Masukkan alas segitiga:\"))\n",
        "    tinggi = float(input(\"Masukkan tinggi segitiga: \"))\n",
        "    luas = luas_segitiga(alas, tinggi)\n",
        "    print(\"Luas segitiga: \", luas)\n",
        "  elif pilihan == '4':\n",
        "    break\n",
        "  else:\n",
        "    print(\"Pilihan tidak sesuai dengan yang ada, silahkan coba lagi\")\n",
        "\n",
        "print(\"Program selesai\")"
      ],
      "metadata": {
        "colab": {
          "base_uri": "https://localhost:8080/"
        },
        "id": "_CNfCv9XQGsI",
        "outputId": "9d62f218-ba7b-4c71-cb85-66150baee1dd"
      },
      "execution_count": 10,
      "outputs": [
        {
          "output_type": "stream",
          "name": "stdout",
          "text": [
            "\n",
            "Pilihan Perhitungan:\n",
            "1. Luas Lingkaran\n",
            "2. Luas Persegi\n",
            "3. Luas Segitiga\n",
            "4. Selesai\n",
            "Masukkan pilihan perhitungan (1/2/3/4)fdhh\n",
            "Pilihan tidak sesuai dengan yang ada, silahkan coba lagi\n",
            "\n",
            "Pilihan Perhitungan:\n",
            "1. Luas Lingkaran\n",
            "2. Luas Persegi\n",
            "3. Luas Segitiga\n",
            "4. Selesai\n",
            "Masukkan pilihan perhitungan (1/2/3/4)1\n",
            "Masukkan jari-jari lingkaran:3\n",
            "Luas lingkaran: 4.5\n",
            "\n",
            "Pilihan Perhitungan:\n",
            "1. Luas Lingkaran\n",
            "2. Luas Persegi\n",
            "3. Luas Segitiga\n",
            "4. Selesai\n",
            "Masukkan pilihan perhitungan (1/2/3/4)2\n",
            "Masukkan sisi persegi:4\n",
            "luas_persegi:  16.0\n",
            "\n",
            "Pilihan Perhitungan:\n",
            "1. Luas Lingkaran\n",
            "2. Luas Persegi\n",
            "3. Luas Segitiga\n",
            "4. Selesai\n",
            "Masukkan pilihan perhitungan (1/2/3/4)3\n",
            "Masukkan alas segitiga:3\n",
            "Masukkan tinggi segitiga: 4\n",
            "Luas segitiga:  6.0\n",
            "\n",
            "Pilihan Perhitungan:\n",
            "1. Luas Lingkaran\n",
            "2. Luas Persegi\n",
            "3. Luas Segitiga\n",
            "4. Selesai\n",
            "Masukkan pilihan perhitungan (1/2/3/4)4\n",
            "Program selesai\n"
          ]
        }
      ]
    },
    {
      "cell_type": "code",
      "source": [],
      "metadata": {
        "id": "dpnd3tMSTQeU"
      },
      "execution_count": null,
      "outputs": []
    }
  ]
}