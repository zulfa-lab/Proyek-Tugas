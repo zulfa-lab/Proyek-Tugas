{
  "nbformat": 4,
  "nbformat_minor": 0,
  "metadata": {
    "colab": {
      "provenance": []
    },
    "kernelspec": {
      "name": "python3",
      "display_name": "Python 3"
    },
    "language_info": {
      "name": "python"
    }
  },
  "cells": [
    {
      "cell_type": "markdown",
      "source": [
        "## <h3 id=\"WeeklyExercise1\">Weekly Exercise 2</h3>\n",
        "- Buatlah dan tentukan tipe collection untuk mengelola data kalian dengan rincian di bawah :<br/>\n",
        "    Nama : nama mahasiswa <br/>\n",
        "    Kelas : kelas mahasiswa <br/>\n",
        "    Tanggal Lahir : tanggal lahir mahasiswa <br/>\n",
        "    no hp : no hp mahasiswa <br/>\n",
        "    alamat : alamat mahasiswa <br/>\n",
        "    Hobi : <br/>\n",
        "    1. Hobi 1 <br/>\n",
        "    2. Hobi 2 <br/>\n",
        "    3. dst <br/>\n",
        "- Tampilkan seluruh data dengan teknik perulangan"
      ],
      "metadata": {
        "id": "n18ywqRiO1Jx"
      }
    },
    {
      "cell_type": "code",
      "source": [
        "Bidata = {\n",
        "   \"Nama\" : \"Zulfa Nashihin\",\n",
        "   \"Kelas\" : 3,\n",
        "   \"Tanggal Lahir\" : \"01 Januari 2000\",\n",
        "   \"No HP\" : \"0812345678\",\n",
        "   \"Alamat\" : \"Magelang\",\n",
        "    \"Hobi\" : {\n",
        "       \"Hobi1\" : \"Gitar\",\n",
        "       \"Hobi2\" : \"Nap\",\n",
        "       \"Hobi3\" : \"scroll hehe\",\n",
        "   }\n",
        "}\n",
        "for x, y in Bidata.items():\n",
        "    print(x + \" : \" + str(y))"
      ],
      "metadata": {
        "colab": {
          "base_uri": "https://localhost:8080/"
        },
        "id": "Za_rPat0PO6u",
        "outputId": "6833919d-1660-4dc7-8f4b-0cd3cf70d63c"
      },
      "execution_count": 6,
      "outputs": [
        {
          "output_type": "stream",
          "name": "stdout",
          "text": [
            "Nama : Zulfa Nashihin\n",
            "Kelas : 3\n",
            "Tanggal Lahir : 01 Januari 2000\n",
            "No HP : 0812345678\n",
            "Alamat : Magelang\n",
            "Hobi : {'Hobi1': 'Gitar', 'Hobi2': 'Nap', 'Hobi3': 'scroll hehe'}\n"
          ]
        }
      ]
    },
    {
      "cell_type": "code",
      "source": [],
      "metadata": {
        "id": "nU3gOXmqrfL9"
      },
      "execution_count": null,
      "outputs": []
    }
  ]
}