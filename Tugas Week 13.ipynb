{
  "nbformat": 4,
  "nbformat_minor": 0,
  "metadata": {
    "colab": {
      "provenance": []
    },
    "kernelspec": {
      "name": "python3",
      "display_name": "Python 3"
    },
    "language_info": {
      "name": "python"
    }
  },
  "cells": [
    {
      "cell_type": "markdown",
      "source": [
        "## <h3 id=\"WeeklyExercise1\">Weekly Exercise 1</h3>\n",
        "Seorang penjual alat tulis menjual 10 bolpoint, 10 pensil dan 10 penghapus. 1 biji bolpoint\n",
        "harganya Rp. 2000, 1 biji pensil harganya Rp. 1.000 dan 1 penghapus harganya Rp. 500.\n",
        "\n",
        "\n",
        "Gunakanlah objek untuk menyelesaikan soal dibawah ini!\n",
        "<li>Buatlah method untuk memasukkan (setter) nama, stok, harga satuan, dan harga (stok x harga satuan) alat tulis tersebut!</li>\n",
        "<li>Buatlah method untuk menampilkan (getter) nama, stok, harga satuan, dan harga (stok x harga satuan) alat tulis tersebut!</li>\n",
        "<li>Buatlah method Total Harga (setter getter) untuk mengelola transaksi penjualan!</li>"
      ],
      "metadata": {
        "id": "4Y3X2Bq9iFsA"
      }
    },
    {
      "cell_type": "code",
      "execution_count": null,
      "metadata": {
        "colab": {
          "base_uri": "https://localhost:8080/"
        },
        "id": "ycskyIe9h4NA",
        "outputId": "ecbf6412-3422-4b4e-d502-bf6242b1e894"
      },
      "outputs": [
        {
          "output_type": "stream",
          "name": "stdout",
          "text": [
            "Nama Alat Tulis: Bolpoint\n",
            "Stok: 10\n",
            "Harga Satuan: Rp. 2000\n",
            "Total Harga: Rp. 20000\n",
            "------------------------\n",
            "Nama Alat Tulis: Pensil\n",
            "Stok: 10\n",
            "Harga Satuan: Rp. 1000\n",
            "Total Harga: Rp. 10000\n",
            "------------------------\n",
            "Nama Alat Tulis: Penghapus\n",
            "Stok: 10\n",
            "Harga Satuan: Rp. 500\n",
            "Total Harga: Rp. 5000\n",
            "------------------------\n",
            "Total Transaksi Keseluruhan: Rp. 35000\n"
          ]
        }
      ],
      "source": [
        "class AlatTulis:       #Zulfa Nashihin 2420506036\n",
        "    def __init__(self):\n",
        "\n",
        "        self.nama = \"\"\n",
        "        self.stok = 0\n",
        "        self.harga_satuan = 0\n",
        "        self.harga = 0\n",
        "\n",
        "    def set_nama(self, nama):\n",
        "        self.nama = nama\n",
        "\n",
        "\n",
        "    def set_stok(self, stok):\n",
        "        self.stok = stok\n",
        "\n",
        "\n",
        "    def set_harga_satuan(self, harga_satuan):\n",
        "        self.harga_satuan = harga_satuan\n",
        "\n",
        "\n",
        "    def hitung_harga(self):\n",
        "        self.harga = self.stok * self.harga_satuan\n",
        "\n",
        "    def get_nama(self):\n",
        "        return self.nama\n",
        "\n",
        "    def get_stok(self):\n",
        "        return self.stok\n",
        "\n",
        "    def get_harga_satuan(self):\n",
        "        return self.harga_satuan\n",
        "\n",
        "    def get_harga(self):\n",
        "        return self.harga\n",
        "\n",
        "    def tampilkan_informasi(self):\n",
        "        print(f\"Nama Alat Tulis: {self.nama}\")\n",
        "        print(f\"Stok: {self.stok}\")\n",
        "        print(f\"Harga Satuan: Rp. {self.harga_satuan}\")\n",
        "        print(f\"Total Harga: Rp. {self.harga}\")\n",
        "        print(\"------------------------\")\n",
        "\n",
        "def main():\n",
        "\n",
        "    bolpoint = AlatTulis()\n",
        "    bolpoint.set_nama(\"Bolpoint\")\n",
        "    bolpoint.set_stok(10)\n",
        "    bolpoint.set_harga_satuan(2000)\n",
        "    bolpoint.hitung_harga()\n",
        "\n",
        "    pensil = AlatTulis()\n",
        "    pensil.set_nama(\"Pensil\")\n",
        "    pensil.set_stok(10)\n",
        "    pensil.set_harga_satuan(1000)\n",
        "    pensil.hitung_harga()\n",
        "\n",
        "    penghapus = AlatTulis()\n",
        "    penghapus.set_nama(\"Penghapus\")\n",
        "    penghapus.set_stok(10)\n",
        "    penghapus.set_harga_satuan(500)\n",
        "    penghapus.hitung_harga()\n",
        "\n",
        "    bolpoint.tampilkan_informasi()\n",
        "    pensil.tampilkan_informasi()\n",
        "    penghapus.tampilkan_informasi()\n",
        "\n",
        "    total_transaksi = (bolpoint.get_harga() +\n",
        "                       pensil.get_harga() +\n",
        "                       penghapus.get_harga())\n",
        "    print(f\"Total Transaksi Keseluruhan: Rp. {total_transaksi}\")\n",
        "\n",
        "if __name__ == \"__main__\":\n",
        "    main()"
      ]
    }
  ]
}
